{
 "cells": [
  {
   "cell_type": "code",
   "execution_count": 1,
   "metadata": {},
   "outputs": [],
   "source": [
    "import cv2\n",
    "\n",
    "cap = cv2.VideoCapture(#link of the video)\n",
    "func = cv2.createBackgroundSubtractorMOG2()\n",
    "cc = []\n",
    "#carros=[]\n",
    "while True:\n",
    "    ret, frame = cap.read()\n",
    "\n",
    "    if not ret:\n",
    "        break\n",
    "\n",
    "    grey = cv2.cvtColor(frame, cv2.COLOR_BGR2GRAY)\n",
    "    blur = cv2.GaussianBlur(grey, (3, 3), 5)\n",
    "    mask = func.apply(blur)\n",
    "\n",
    "    contours, hierarchy = cv2.findContours(mask, cv2.RETR_TREE, cv2.CHAIN_APPROX_SIMPLE)\n",
    "\n",
    "    cv2.line(frame, (25, 550), (1200, 550), (176, 130, 39), 2)\n",
    "\n",
    "    for contour in contours:\n",
    "        x, y, w, h = cv2.boundingRect(contour)\n",
    "        condition = (w >= 80) and (h >= 80)\n",
    "\n",
    "        if not condition:\n",
    "            continue\n",
    "\n",
    "        cv2.rectangle(frame, (x, y), (x + w, y + h), (0, 255, 0), 2)\n",
    "        center = (x + w // 2, y + h // 2)\n",
    "        cc.append(center)\n",
    "        cv2.circle(frame, center, 4, (0, 0, 255), -1)\n",
    "\n",
    "    for (x, y) in cc:\n",
    "        if (y < (550 + 6)) and (y > (550 - 6)):\n",
    "          #  carros += 1\n",
    "            cv2.line(frame, (25, 550), (1200, 550), (176, 130, 39), 2)\n",
    "            cc.remove((x, y))\n",
    "\n",
    "    cv2.imshow(\"frame\",frame)\n",
    "    cv2.imshow(\"mask\", mask)\n",
    "\n",
    "    if cv2.waitKey(1) == 27:\n",
    "        break\n",
    "\n",
    "cv2.destroyAllWindows()\n",
    "cap.release()\n"
   ]
  }
 ],
 "metadata": {
  "kernelspec": {
   "display_name": "base",
   "language": "python",
   "name": "python3"
  },
  "language_info": {
   "codemirror_mode": {
    "name": "ipython",
    "version": 3
   },
   "file_extension": ".py",
   "mimetype": "text/x-python",
   "name": "python",
   "nbconvert_exporter": "python",
   "pygments_lexer": "ipython3",
   "version": "3.9.13"
  },
  "orig_nbformat": 4
 },
 "nbformat": 4,
 "nbformat_minor": 2
}
